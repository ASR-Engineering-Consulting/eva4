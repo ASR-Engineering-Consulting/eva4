{
  "nbformat": 4,
  "nbformat_minor": 0,
  "metadata": {
    "kernelspec": {
      "display_name": "Python 3",
      "language": "python",
      "name": "python3"
    },
    "language_info": {
      "codemirror_mode": {
        "name": "ipython",
        "version": 3
      },
      "file_extension": ".py",
      "mimetype": "text/x-python",
      "name": "python",
      "nbconvert_exporter": "python",
      "pygments_lexer": "ipython3",
      "version": "3.8.1"
    },
    "colab": {
      "name": "EVA4 - Session 4 MNIST.ipynb",
      "provenance": [],
      "collapsed_sections": [],
      "include_colab_link": true
    }
  },
  "cells": [
    {
      "cell_type": "markdown",
      "metadata": {
        "id": "view-in-github",
        "colab_type": "text"
      },
      "source": [
        "<a href=\"https://colab.research.google.com/github/upadhyayprakash/eva4/blob/master/S4/EVA4_Session_4_MNIST.ipynb\" target=\"_parent\"><img src=\"https://colab.research.google.com/assets/colab-badge.svg\" alt=\"Open In Colab\"/></a>"
      ]
    },
    {
      "cell_type": "markdown",
      "metadata": {
        "id": "BTlfbRi_mkW7",
        "colab_type": "text"
      },
      "source": [
        "#### Task\n",
        "Train MNIST to **99.4%** or more validation accuracy with following constraints:\n",
        "1. Less than 20k parameters\n",
        "2. less than 20 Epochs\n",
        "3. No Fully Connected Layer(almost)\n",
        "4. Try all the concepts taught in the class\n",
        "\n",
        "### RESULT\n",
        "1. Val Accuracy: **94%** at 17th Epoch\n",
        "2. No. of parameters: 15,722\n",
        "3. No. of Epoch: 17th Epoch (for 99.4% Accuracy)\n",
        "4. Without any Fully Connected Layer\n",
        "5. Concepts Used: 1x1 Conv, Batch Normalization, Dropout, Avg Pooling, ReLU, Batch_Size, Optimizer, transforms module for Image Augmentation.\n",
        "\n",
        "NOTE: Tried using CutOut, work in Progress."
      ]
    },
    {
      "cell_type": "code",
      "metadata": {
        "id": "pFsridYxmkXA",
        "colab_type": "code",
        "colab": {}
      },
      "source": [
        "from __future__ import print_function, division\n",
        "import torch\n",
        "import torch.nn as nn\n",
        "import torch.nn.functional as F\n",
        "import torch.optim as optim\n",
        "from torchvision import datasets, transforms"
      ],
      "execution_count": 0,
      "outputs": []
    },
    {
      "cell_type": "code",
      "metadata": {
        "id": "KIRnb7_zmkXH",
        "colab_type": "code",
        "colab": {}
      },
      "source": [
        "# Old Architecture, Don't use this\n",
        "class Net(nn.Module):\n",
        "    def __init__(self):\n",
        "        super(Net, self).__init__()\n",
        "        self.conv1 = nn.Conv2d(1, 32, 3, padding=1) #input -? OUtput? RF\n",
        "        self.conv2 = nn.Conv2d(32, 64, 3, padding=1)\n",
        "        self.pool1 = nn.MaxPool2d(2, 2)\n",
        "        self.conv3 = nn.Conv2d(64, 128, 3, padding=1)\n",
        "        self.conv4 = nn.Conv2d(128, 256, 3, padding=1)\n",
        "        self.pool2 = nn.MaxPool2d(2, 2)\n",
        "        self.conv5 = nn.Conv2d(256, 512, 3)\n",
        "        self.conv6 = nn.Conv2d(512, 1024, 3)\n",
        "        self.conv7 = nn.Conv2d(1024, 10, 3)\n",
        "\n",
        "    def forward(self, x):\n",
        "        x = self.pool1(F.relu(self.conv2(F.relu(self.conv1(x)))))\n",
        "        x = self.pool2(F.relu(self.conv4(F.relu(self.conv3(x)))))\n",
        "        x = F.relu(self.conv6(F.relu(self.conv5(x))))\n",
        "        x = self.conv7(x)\n",
        "        print('#### OLD ####')\n",
        "        print(x.shape)\n",
        "        x = x.view(-1, 10)\n",
        "        return F.log_softmax(x)"
      ],
      "execution_count": 0,
      "outputs": []
    },
    {
      "cell_type": "code",
      "metadata": {
        "id": "RWpJBFD24-GF",
        "colab_type": "code",
        "colab": {}
      },
      "source": [
        "# Returns a Cut-Out image for training data\n",
        "import numpy as np\n",
        "\n",
        "def cutout(mask_size, p, cutout_inside, mask_color=(0, 0, 0)):\n",
        "    mask_size_half = mask_size // 2\n",
        "    offset = 1 if mask_size % 2 == 0 else 0\n",
        "\n",
        "    def _cutout(image):\n",
        "        image = np.asarray(image).copy()\n",
        "\n",
        "        if np.random.random() > p:\n",
        "            return image\n",
        "\n",
        "        h, w = image.shape[:2]\n",
        "\n",
        "        if cutout_inside:\n",
        "            # print('Yess')\n",
        "            cxmin, cxmax = mask_size_half, w + offset - mask_size_half\n",
        "            cymin, cymax = mask_size_half, h + offset - mask_size_half\n",
        "        else:\n",
        "            # print('Nooo')\n",
        "            cxmin, cxmax = 0, w + offset\n",
        "            cymin, cymax = 0, h + offset\n",
        "\n",
        "        cx = np.random.randint(cxmin, cxmax)\n",
        "        cy = np.random.randint(cymin, cymax)\n",
        "        xmin = cx - mask_size_half\n",
        "        ymin = cy - mask_size_half\n",
        "        xmax = xmin + mask_size\n",
        "        ymax = ymin + mask_size\n",
        "        xmin = max(0, xmin)\n",
        "        ymin = max(0, ymin)\n",
        "        xmax = min(w, xmax)\n",
        "        ymax = min(h, ymax)\n",
        "        image[ymin:ymax, xmin:xmax] = mask_color\n",
        "        return image\n",
        "\n",
        "    return _cutout"
      ],
      "execution_count": 0,
      "outputs": []
    },
    {
      "cell_type": "code",
      "metadata": {
        "id": "l9h31v1-qj48",
        "colab_type": "code",
        "colab": {}
      },
      "source": [
        "class NewNet(nn.Module):\n",
        "    def __init__(self):\n",
        "        super(NewNet, self).__init__()\n",
        "        self.conv1 = nn.Conv2d(1, 16, 3) #input - 28x28x1 | Kernel Size - 3x3x1 | Output - 28x28x16 | RF = 3\n",
        "        self.conv2 = nn.Conv2d(16, 16, 3)\n",
        "        self.conv3 = nn.Conv2d(16, 16, 3)\n",
        "        self.conv4 = nn.Conv2d(16, 16, 3)\n",
        "        self.conv5 = nn.Conv2d(16, 16, 3)\n",
        "        self.conv6 = nn.Conv2d(16, 16, 3)\n",
        "        self.conv7 = nn.Conv2d(16, 16, 3)\n",
        "        self.batchNorm1 = nn.BatchNorm2d(16)\n",
        "        self.batchNorm2 = nn.BatchNorm2d(16)\n",
        "        self.batchNorm3 = nn.BatchNorm2d(16)\n",
        "        self.batchNorm4 = nn.BatchNorm2d(16)\n",
        "        self.batchNorm5 = nn.BatchNorm2d(16)\n",
        "        self.batchNorm6 = nn.BatchNorm2d(16)\n",
        "        self.batchNorm7 = nn.BatchNorm2d(16)\n",
        "        self.conv7FC = nn.Conv2d(16, 10, 3)\n",
        "        self.pool1 = nn.MaxPool2d(2, 2)\n",
        "        self.convOne1 = nn.Conv2d(32, 16, 1)\n",
        "        self.avgPool1 = nn.AvgPool2d(2)\n",
        "        self.avgPool2 = nn.AvgPool2d(2)\n",
        "\n",
        "        self.drop1 = nn.Dropout2d(0.20)\n",
        "        self.drop2 = nn.Dropout2d(0.20)\n",
        "        self.drop3 = nn.Dropout2d(0.20)\n",
        "        self.drop4 = nn.Dropout2d(0.20)\n",
        "        self.drop5 = nn.Dropout2d(0.20)\n",
        "        self.drop6 = nn.Dropout2d(0.20)\n",
        "        \n",
        "    def forward(self, x):\n",
        "        x = self.batchNorm1(F.relu(self.conv1(x)))\n",
        "        x = self.drop1(x)\n",
        "        # print(x.shape)\n",
        "        \n",
        "        x = self.batchNorm3(F.relu(self.conv2(x)))\n",
        "        self.drop2 = nn.Dropout2d(0.20)\n",
        "        # print(x.shape)\n",
        "        \n",
        "        x = self.batchNorm4(F.relu(self.conv3(x)))\n",
        "        self.drop3 = nn.Dropout2d(0.20)\n",
        "        # print(x.shape)\n",
        "        \n",
        "        x = self.avgPool1(x)\n",
        "        # print(x.shape)\n",
        "\n",
        "        x = self.batchNorm5(F.relu(self.conv4(x)))\n",
        "        self.drop4 = nn.Dropout2d(0.20)\n",
        "        # print(x.shape)\n",
        "        \n",
        "        x = self.batchNorm6(F.relu(self.conv5(x)))\n",
        "        self.drop5 = nn.Dropout2d(0.20)\n",
        "        # print(x.shape)\n",
        "\n",
        "        x = self.batchNorm7(F.relu(self.conv6(x)))\n",
        "        # print(x.shape)\n",
        "\n",
        "        x = F.relu(self.conv7(x))\n",
        "        # print(x.shape)\n",
        "\n",
        "        x = self.conv7FC(x)\n",
        "        x = x.view(-1, 10)\n",
        "        return F.log_softmax(x)"
      ],
      "execution_count": 0,
      "outputs": []
    },
    {
      "cell_type": "code",
      "metadata": {
        "id": "7ZfUiTKKmkXN",
        "colab_type": "code",
        "outputId": "cf448b90-4705-434f-d7d7-d0c1849cd575",
        "colab": {
          "base_uri": "https://localhost:8080/",
          "height": 561
        }
      },
      "source": [
        "!pip install torchsummary\n",
        "from torchsummary import summary\n",
        "use_cuda = torch.cuda.is_available()\n",
        "device = torch.device(\"cuda\" if use_cuda else \"cpu\")\n",
        "model = NewNet().to(device)\n",
        "summary(model, input_size=(1, 28, 28))"
      ],
      "execution_count": 5,
      "outputs": [
        {
          "output_type": "stream",
          "text": [
            "Requirement already satisfied: torchsummary in ./anaconda3/envs/eva4/lib/python3.8/site-packages (1.5.1)\r\n",
            "----------------------------------------------------------------\n",
            "        Layer (type)               Output Shape         Param #\n",
            "================================================================\n",
            "            Conv2d-1           [-1, 16, 26, 26]             160\n",
            "       BatchNorm2d-2           [-1, 16, 26, 26]              32\n",
            "         Dropout2d-3           [-1, 16, 26, 26]               0\n",
            "            Conv2d-4           [-1, 16, 24, 24]           2,320\n",
            "       BatchNorm2d-5           [-1, 16, 24, 24]              32\n",
            "            Conv2d-6           [-1, 16, 22, 22]           2,320\n",
            "       BatchNorm2d-7           [-1, 16, 22, 22]              32\n",
            "         AvgPool2d-8           [-1, 16, 11, 11]               0\n",
            "            Conv2d-9             [-1, 16, 9, 9]           2,320\n",
            "      BatchNorm2d-10             [-1, 16, 9, 9]              32\n",
            "           Conv2d-11             [-1, 16, 7, 7]           2,320\n",
            "      BatchNorm2d-12             [-1, 16, 7, 7]              32\n",
            "           Conv2d-13             [-1, 16, 5, 5]           2,320\n",
            "      BatchNorm2d-14             [-1, 16, 5, 5]              32\n",
            "           Conv2d-15             [-1, 16, 3, 3]           2,320\n",
            "           Conv2d-16             [-1, 10, 1, 1]           1,450\n",
            "================================================================\n",
            "Total params: 15,722\n",
            "Trainable params: 15,722\n",
            "Non-trainable params: 0\n",
            "----------------------------------------------------------------\n",
            "Input size (MB): 0.00\n",
            "Forward/backward pass size (MB): 0.56\n",
            "Params size (MB): 0.06\n",
            "Estimated Total Size (MB): 0.62\n",
            "----------------------------------------------------------------\n"
          ],
          "name": "stdout"
        },
        {
          "output_type": "stream",
          "text": [
            "<ipython-input-4-984d5a73ab85>:62: UserWarning: Implicit dimension choice for log_softmax has been deprecated. Change the call to include dim=X as an argument.\n",
            "  return F.log_softmax(x)\n"
          ],
          "name": "stderr"
        }
      ]
    },
    {
      "cell_type": "code",
      "metadata": {
        "id": "9ezKUd6GmkXU",
        "colab_type": "code",
        "colab": {}
      },
      "source": [
        "\n",
        "torch.manual_seed(1)\n",
        "batch_size = 64\n",
        "\n",
        "kwargs = {'num_workers': 1, 'pin_memory': True} if use_cuda else {}\n",
        "train_loader = torch.utils.data.DataLoader(\n",
        "    datasets.MNIST('/home/prakash/Prakash/EVA4/Session-4/Notebooks/dataMNIST', train=True, download=True,\n",
        "                    transform=transforms.Compose([\n",
        "                        transforms.ToTensor(),\n",
        "                        transforms.Normalize((0.1307,), (0.3081,)),\n",
        "                        # transforms.ToPILImage(),\n",
        "                        # transforms.RandomRotation(20),\n",
        "                        # cutout(2,\n",
        "                        #     0.27,\n",
        "                        #     False\n",
        "                        #   )\n",
        "                    ])),\n",
        "    batch_size=batch_size, shuffle=True, **kwargs)\n",
        "test_loader = torch.utils.data.DataLoader(\n",
        "    datasets.MNIST('/home/prakash/Prakash/EVA4/Session-4/Notebooks/dataMNIST', train=False, transform=transforms.Compose([\n",
        "                        transforms.ToTensor(),\n",
        "                        transforms.Normalize((0.1307,), (0.3081,))\n",
        "                    ])),\n",
        "    batch_size=batch_size, shuffle=True, **kwargs)\n"
      ],
      "execution_count": 0,
      "outputs": []
    },
    {
      "cell_type": "code",
      "metadata": {
        "id": "76I8hVhlmkXY",
        "colab_type": "code",
        "colab": {}
      },
      "source": [
        "from tqdm import tqdm\n",
        "def train(model, device, train_loader, optimizer, epoch):\n",
        "    model.train()\n",
        "    pbar = tqdm(train_loader)\n",
        "    for batch_idx, (data, target) in enumerate(pbar):\n",
        "        data, target = data.to(device), target.to(device)\n",
        "        optimizer.zero_grad()\n",
        "        output = model(data)\n",
        "        loss = F.nll_loss(output, target)\n",
        "        loss.backward()\n",
        "        optimizer.step()\n",
        "        pbar.set_description(desc= f'loss={loss.item()} batch_id={batch_idx}')\n",
        "\n",
        "\n",
        "def test(model, device, test_loader):\n",
        "    model.eval()\n",
        "    test_loss = 0\n",
        "    correct = 0\n",
        "    with torch.no_grad():\n",
        "        for data, target in test_loader:\n",
        "            data, target = data.to(device), target.to(device)\n",
        "            output = model(data)\n",
        "            test_loss += F.nll_loss(output, target, reduction='sum').item()  # sum up batch loss\n",
        "            pred = output.argmax(dim=1, keepdim=True)  # get the index of the max log-probability\n",
        "            correct += pred.eq(target.view_as(pred)).sum().item()\n",
        "\n",
        "    test_loss /= len(test_loader.dataset)\n",
        "\n",
        "    print('\\nTest set: Average loss: {:.4f}, Accuracy: {}/{} ({:.2f}%)\\n'.format(\n",
        "        test_loss, correct, len(test_loader.dataset),\n",
        "        100. * correct / len(test_loader.dataset)))"
      ],
      "execution_count": 0,
      "outputs": []
    },
    {
      "cell_type": "code",
      "metadata": {
        "id": "9nHq_DsSmkXc",
        "colab_type": "code",
        "outputId": "cceba691-033c-4a8c-9bc1-bb6b6f45dabf",
        "colab": {
          "base_uri": "https://localhost:8080/",
          "height": 1000
        }
      },
      "source": [
        "# Loading the model to GPU\n",
        "print('Loading to GPU')\n",
        "model = NewNet().to(device)\n",
        "print('Loaded to GPU')\n",
        "optimizer = optim.SGD(model.parameters(), lr=0.01, momentum=0.9) #Stochastic Gradient Descent Optimizer\n",
        "print('Done')\n",
        "for epoch in range(1, 20):\n",
        "    train(model, device, train_loader, optimizer, epoch)\n",
        "    test(model, device, test_loader)"
      ],
      "execution_count": 8,
      "outputs": [
        {
          "output_type": "stream",
          "text": [
            "\r  0%|          | 0/938 [00:00<?, ?it/s]"
          ],
          "name": "stderr"
        },
        {
          "output_type": "stream",
          "text": [
            "Loading to GPU\n",
            "Loaded to GPU\n",
            "Done\n"
          ],
          "name": "stdout"
        },
        {
          "output_type": "stream",
          "text": [
            "<ipython-input-4-984d5a73ab85>:62: UserWarning: Implicit dimension choice for log_softmax has been deprecated. Change the call to include dim=X as an argument.\n",
            "  return F.log_softmax(x)\n",
            "loss=0.13026589155197144 batch_id=937: 100%|██████████| 938/938 [00:09<00:00, 97.92it/s] \n",
            "  0%|          | 0/938 [00:00<?, ?it/s]"
          ],
          "name": "stderr"
        },
        {
          "output_type": "stream",
          "text": [
            "\n",
            "Test set: Average loss: 0.0509, Accuracy: 9833/10000 (98.33%)\n",
            "\n"
          ],
          "name": "stdout"
        },
        {
          "output_type": "stream",
          "text": [
            "loss=0.03746333718299866 batch_id=937: 100%|██████████| 938/938 [00:09<00:00, 103.36it/s]\n",
            "  0%|          | 0/938 [00:00<?, ?it/s]"
          ],
          "name": "stderr"
        },
        {
          "output_type": "stream",
          "text": [
            "\n",
            "Test set: Average loss: 0.0365, Accuracy: 9892/10000 (98.92%)\n",
            "\n"
          ],
          "name": "stdout"
        },
        {
          "output_type": "stream",
          "text": [
            "loss=0.003616422414779663 batch_id=937: 100%|██████████| 938/938 [00:08<00:00, 105.80it/s]\n",
            "  0%|          | 0/938 [00:00<?, ?it/s]"
          ],
          "name": "stderr"
        },
        {
          "output_type": "stream",
          "text": [
            "\n",
            "Test set: Average loss: 0.0335, Accuracy: 9901/10000 (99.01%)\n",
            "\n"
          ],
          "name": "stdout"
        },
        {
          "output_type": "stream",
          "text": [
            "loss=0.011614233255386353 batch_id=937: 100%|██████████| 938/938 [00:08<00:00, 105.47it/s]\n",
            "  0%|          | 0/938 [00:00<?, ?it/s]"
          ],
          "name": "stderr"
        },
        {
          "output_type": "stream",
          "text": [
            "\n",
            "Test set: Average loss: 0.0249, Accuracy: 9934/10000 (99.34%)\n",
            "\n"
          ],
          "name": "stdout"
        },
        {
          "output_type": "stream",
          "text": [
            "loss=0.0023127496242523193 batch_id=937: 100%|██████████| 938/938 [00:10<00:00, 93.21it/s] \n",
            "  0%|          | 0/938 [00:00<?, ?it/s]"
          ],
          "name": "stderr"
        },
        {
          "output_type": "stream",
          "text": [
            "\n",
            "Test set: Average loss: 0.0260, Accuracy: 9922/10000 (99.22%)\n",
            "\n"
          ],
          "name": "stdout"
        },
        {
          "output_type": "stream",
          "text": [
            "loss=0.001361072063446045 batch_id=937: 100%|██████████| 938/938 [00:10<00:00, 93.71it/s]\n",
            "  0%|          | 0/938 [00:00<?, ?it/s]"
          ],
          "name": "stderr"
        },
        {
          "output_type": "stream",
          "text": [
            "\n",
            "Test set: Average loss: 0.0221, Accuracy: 9936/10000 (99.36%)\n",
            "\n"
          ],
          "name": "stdout"
        },
        {
          "output_type": "stream",
          "text": [
            "loss=0.0033078789710998535 batch_id=937: 100%|██████████| 938/938 [00:09<00:00, 100.80it/s]\n",
            "  0%|          | 0/938 [00:00<?, ?it/s]"
          ],
          "name": "stderr"
        },
        {
          "output_type": "stream",
          "text": [
            "\n",
            "Test set: Average loss: 0.0238, Accuracy: 9927/10000 (99.27%)\n",
            "\n"
          ],
          "name": "stdout"
        },
        {
          "output_type": "stream",
          "text": [
            "loss=0.0005520880222320557 batch_id=937: 100%|██████████| 938/938 [00:09<00:00, 96.72it/s]\n",
            "  0%|          | 0/938 [00:00<?, ?it/s]"
          ],
          "name": "stderr"
        },
        {
          "output_type": "stream",
          "text": [
            "\n",
            "Test set: Average loss: 0.0249, Accuracy: 9914/10000 (99.14%)\n",
            "\n"
          ],
          "name": "stdout"
        },
        {
          "output_type": "stream",
          "text": [
            "loss=7.677078247070312e-05 batch_id=937: 100%|██████████| 938/938 [00:09<00:00, 99.08it/s]\n",
            "  0%|          | 0/938 [00:00<?, ?it/s]"
          ],
          "name": "stderr"
        },
        {
          "output_type": "stream",
          "text": [
            "\n",
            "Test set: Average loss: 0.0247, Accuracy: 9931/10000 (99.31%)\n",
            "\n"
          ],
          "name": "stdout"
        },
        {
          "output_type": "stream",
          "text": [
            "loss=0.0028645992279052734 batch_id=937: 100%|██████████| 938/938 [00:09<00:00, 98.42it/s] \n",
            "  0%|          | 0/938 [00:00<?, ?it/s]"
          ],
          "name": "stderr"
        },
        {
          "output_type": "stream",
          "text": [
            "\n",
            "Test set: Average loss: 0.0259, Accuracy: 9927/10000 (99.27%)\n",
            "\n"
          ],
          "name": "stdout"
        },
        {
          "output_type": "stream",
          "text": [
            "loss=0.00020429491996765137 batch_id=937: 100%|██████████| 938/938 [00:11<00:00, 85.08it/s]\n",
            "  0%|          | 0/938 [00:00<?, ?it/s]"
          ],
          "name": "stderr"
        },
        {
          "output_type": "stream",
          "text": [
            "\n",
            "Test set: Average loss: 0.0249, Accuracy: 9925/10000 (99.25%)\n",
            "\n"
          ],
          "name": "stdout"
        },
        {
          "output_type": "stream",
          "text": [
            "loss=0.007296234369277954 batch_id=937: 100%|██████████| 938/938 [00:10<00:00, 89.78it/s]\n",
            "  0%|          | 0/938 [00:00<?, ?it/s]"
          ],
          "name": "stderr"
        },
        {
          "output_type": "stream",
          "text": [
            "\n",
            "Test set: Average loss: 0.0234, Accuracy: 9933/10000 (99.33%)\n",
            "\n"
          ],
          "name": "stdout"
        },
        {
          "output_type": "stream",
          "text": [
            "loss=0.003086000680923462 batch_id=937: 100%|██████████| 938/938 [00:10<00:00, 92.03it/s]\n",
            "  0%|          | 0/938 [00:00<?, ?it/s]"
          ],
          "name": "stderr"
        },
        {
          "output_type": "stream",
          "text": [
            "\n",
            "Test set: Average loss: 0.0231, Accuracy: 9930/10000 (99.30%)\n",
            "\n"
          ],
          "name": "stdout"
        },
        {
          "output_type": "stream",
          "text": [
            "loss=0.019437327980995178 batch_id=937: 100%|██████████| 938/938 [00:10<00:00, 86.16it/s]\n",
            "  0%|          | 0/938 [00:00<?, ?it/s]"
          ],
          "name": "stderr"
        },
        {
          "output_type": "stream",
          "text": [
            "\n",
            "Test set: Average loss: 0.0226, Accuracy: 9931/10000 (99.31%)\n",
            "\n"
          ],
          "name": "stdout"
        },
        {
          "output_type": "stream",
          "text": [
            "loss=0.00090751051902771 batch_id=937: 100%|██████████| 938/938 [00:10<00:00, 92.65it/s] \n",
            "  0%|          | 0/938 [00:00<?, ?it/s]"
          ],
          "name": "stderr"
        },
        {
          "output_type": "stream",
          "text": [
            "\n",
            "Test set: Average loss: 0.0236, Accuracy: 9934/10000 (99.34%)\n",
            "\n"
          ],
          "name": "stdout"
        },
        {
          "output_type": "stream",
          "text": [
            "loss=0.0029143095016479492 batch_id=937: 100%|██████████| 938/938 [00:10<00:00, 87.43it/s]\n",
            "  0%|          | 0/938 [00:00<?, ?it/s]"
          ],
          "name": "stderr"
        },
        {
          "output_type": "stream",
          "text": [
            "\n",
            "Test set: Average loss: 0.0253, Accuracy: 9934/10000 (99.34%)\n",
            "\n"
          ],
          "name": "stdout"
        },
        {
          "output_type": "stream",
          "text": [
            "loss=0.00017881393432617188 batch_id=937: 100%|██████████| 938/938 [00:11<00:00, 83.84it/s]\n",
            "  0%|          | 0/938 [00:00<?, ?it/s]"
          ],
          "name": "stderr"
        },
        {
          "output_type": "stream",
          "text": [
            "\n",
            "Test set: Average loss: 0.0225, Accuracy: 9940/10000 (99.40%)\n",
            "\n"
          ],
          "name": "stdout"
        },
        {
          "output_type": "stream",
          "text": [
            "loss=0.022557705640792847 batch_id=937: 100%|██████████| 938/938 [00:10<00:00, 89.39it/s] \n",
            "  0%|          | 0/938 [00:00<?, ?it/s]"
          ],
          "name": "stderr"
        },
        {
          "output_type": "stream",
          "text": [
            "\n",
            "Test set: Average loss: 0.0284, Accuracy: 9921/10000 (99.21%)\n",
            "\n"
          ],
          "name": "stdout"
        },
        {
          "output_type": "stream",
          "text": [
            "loss=8.934736251831055e-05 batch_id=937: 100%|██████████| 938/938 [00:10<00:00, 87.22it/s]\n"
          ],
          "name": "stderr"
        },
        {
          "output_type": "stream",
          "text": [
            "\n",
            "Test set: Average loss: 0.0236, Accuracy: 9931/10000 (99.31%)\n",
            "\n"
          ],
          "name": "stdout"
        }
      ]
    },
    {
      "cell_type": "code",
      "metadata": {
        "id": "_LmF-MuDmkXg",
        "colab_type": "code",
        "outputId": "dcd619ab-60af-4c02-836f-440e393c82eb",
        "colab": {
          "base_uri": "https://localhost:8080/",
          "height": 34
        }
      },
      "source": [
        "import sys\n",
        "print(sys.version_info)\n"
      ],
      "execution_count": 9,
      "outputs": [
        {
          "output_type": "stream",
          "text": [
            "sys.version_info(major=3, minor=8, micro=1, releaselevel='final', serial=0)\n"
          ],
          "name": "stdout"
        }
      ]
    }
  ]
}