{
  "nbformat": 4,
  "nbformat_minor": 0,
  "metadata": {
    "colab": {
      "name": "EVA4_Session_12_YOLO_Anchor_Box.ipynb",
      "provenance": [],
      "collapsed_sections": [],
      "authorship_tag": "ABX9TyN+jI15FwjmKd4gF5qL7aZs",
      "include_colab_link": true
    },
    "kernelspec": {
      "name": "python3",
      "display_name": "Python 3"
    }
  },
  "cells": [
    {
      "cell_type": "markdown",
      "metadata": {
        "id": "view-in-github",
        "colab_type": "text"
      },
      "source": [
        "<a href=\"https://colab.research.google.com/github/upadhyayprakash/eva4/blob/master/S12/EVA4_Session_12_YOLO_Anchor_Box.ipynb\" target=\"_parent\"><img src=\"https://colab.research.google.com/assets/colab-badge.svg\" alt=\"Open In Colab\"/></a>"
      ]
    },
    {
      "cell_type": "markdown",
      "metadata": {
        "id": "jZU2KKO0gB6w",
        "colab_type": "text"
      },
      "source": [
        "# EVA4 Session-12\n",
        "## Assignment-B\n",
        "\n",
        "Explanation of the file Attributes:\n",
        "- **info:** Project Version and Creation Details\n",
        "- **images:** Details of image being annotated\n",
        "  - *id:* index of image starting from '0'\n",
        "  - *width:* width of the image being annotated\n",
        "  - *height:* height of the image being annotated\n",
        "  - *file_name:* original name of the image file\n",
        "  - *license:* License ID for the image\n",
        "  - *date_captured:* Date of Image Capture\n",
        "- **annotations:** Details of the Annotation for each object\n",
        "  - *id:* annotated object id. Starts from '0', increases for every object annotated.\n",
        "  - *image_id:* Corresponds to the image to which the object belongs\n",
        "  - *segmentation:* Bounding box coordinates for all the points in the format (x,y)\n",
        "  - *area:* Area of the bounding box, calculated from segmentations\n",
        "  - *bbox:* Coordinate of the top-left point(when drawn from top-left). And width, height factor for the BB\n",
        "  - *iscrowd:* iscrowd=0, if the BB is for single object, iscrowd=1, if collection of objects.\n"
      ]
    },
    {
      "cell_type": "code",
      "metadata": {
        "id": "MRKwwASqfTwV",
        "colab_type": "code",
        "colab": {
          "base_uri": "https://localhost:8080/",
          "height": 122
        },
        "outputId": "922e3edf-d4cb-4e7c-e425-4751d7642671"
      },
      "source": [
        "from google.colab import drive\n",
        "drive.mount('/content/drive')"
      ],
      "execution_count": 4,
      "outputs": [
        {
          "output_type": "stream",
          "text": [
            "Go to this URL in a browser: https://accounts.google.com/o/oauth2/auth?client_id=947318989803-6bn6qk8qdgf4n4g3pfee6491hc0brc4i.apps.googleusercontent.com&redirect_uri=urn%3aietf%3awg%3aoauth%3a2.0%3aoob&response_type=code&scope=email%20https%3a%2f%2fwww.googleapis.com%2fauth%2fdocs.test%20https%3a%2f%2fwww.googleapis.com%2fauth%2fdrive%20https%3a%2f%2fwww.googleapis.com%2fauth%2fdrive.photos.readonly%20https%3a%2f%2fwww.googleapis.com%2fauth%2fpeopleapi.readonly\n",
            "\n",
            "Enter your authorization code:\n",
            "··········\n",
            "Mounted at /content/drive\n"
          ],
          "name": "stdout"
        }
      ]
    },
    {
      "cell_type": "code",
      "metadata": {
        "id": "YsorwgdPY3Q7",
        "colab_type": "code",
        "colab": {}
      },
      "source": [
        "%matplotlib inline\n",
        "\n",
        "import numpy as np\n",
        "import matplotlib.pyplot as plt\n",
        "from matplotlib.collections import PatchCollection\n",
        "from matplotlib.patches import Rectangle"
      ],
      "execution_count": 0,
      "outputs": []
    },
    {
      "cell_type": "code",
      "metadata": {
        "id": "DIbeTIEFY-8e",
        "colab_type": "code",
        "colab": {}
      },
      "source": [
        "def load_json(path):\n",
        "    with open(path) as f:\n",
        "        img_annotations = eval(f.read())\n",
        "    return img_annotations"
      ],
      "execution_count": 0,
      "outputs": []
    },
    {
      "cell_type": "code",
      "metadata": {
        "id": "W8pu7eHsZneK",
        "colab_type": "code",
        "colab": {}
      },
      "source": [
        "def fetch_data_points(img_annotations):\n",
        "    data_points = []\n",
        "    for annotation in img_annotations['annotations']:\n",
        "        bbox = annotation['bbox']\n",
        "        img = img_annotations['images'][int(annotation['image_id'])]\n",
        "\n",
        "        # Normalize the height and width of the bounding box\n",
        "        data_points.append((\n",
        "            bbox[2] / img['width'],\n",
        "            bbox[3] / img['height']\n",
        "        ))\n",
        "    return np.array(data_points)"
      ],
      "execution_count": 0,
      "outputs": []
    },
    {
      "cell_type": "code",
      "metadata": {
        "id": "SSpGZudcZxBZ",
        "colab_type": "code",
        "colab": {}
      },
      "source": [
        "img_annotations = load_json('drive/My Drive/EVA4/Session-12/Assignment-B/dogs_annotation.json')\n",
        "data_points = fetch_data_points(img_annotations)"
      ],
      "execution_count": 0,
      "outputs": []
    },
    {
      "cell_type": "code",
      "metadata": {
        "id": "LuWsG7UVZ2Xx",
        "colab_type": "code",
        "colab": {
          "base_uri": "https://localhost:8080/",
          "height": 296
        },
        "outputId": "325fce15-3a63-4758-a3dd-d31873fd5789"
      },
      "source": [
        "plt.scatter(data_points[:, 0], data_points[:, 1])\n",
        "plt.xlabel('width')\n",
        "plt.ylabel('height')"
      ],
      "execution_count": 7,
      "outputs": [
        {
          "output_type": "execute_result",
          "data": {
            "text/plain": [
              "Text(0, 0.5, 'height')"
            ]
          },
          "metadata": {
            "tags": []
          },
          "execution_count": 7
        },
        {
          "output_type": "display_data",
          "data": {
            "image/png": "[encoded data removed]",
            "text/plain": [
              "<Figure size 432x288 with 1 Axes>"
            ]
          },
          "metadata": {
            "tags": [],
            "needs_background": "light"
          }
        }
      ]
    },
    {
      "cell_type": "code",
      "metadata": {
        "id": "ntx90FLRZ3Ff",
        "colab_type": "code",
        "colab": {
          "base_uri": "https://localhost:8080/",
          "height": 296
        },
        "outputId": "0acbdb6b-4226-4759-ee59-38e3b78445ce"
      },
      "source": [
        "plt.scatter(np.log(data_points[:, 0]), np.log(data_points[:, 1]))\n",
        "plt.xlabel('log(width)')\n",
        "plt.ylabel('log(height)')"
      ],
      "execution_count": 8,
      "outputs": [
        {
          "output_type": "execute_result",
          "data": {
            "text/plain": [
              "Text(0, 0.5, 'log(height)')"
            ]
          },
          "metadata": {
            "tags": []
          },
          "execution_count": 8
        },
        {
          "output_type": "display_data",
          "data": {
            "image/png": "[encoded data removed]",
            "text/plain": [
              "<Figure size 432x288 with 1 Axes>"
            ]
          },
          "metadata": {
            "tags": [],
            "needs_background": "light"
          }
        }
      ]
    },
    {
      "cell_type": "code",
      "metadata": {
        "id": "RuRrZBUeZ6Gr",
        "colab_type": "code",
        "colab": {}
      },
      "source": [
        "class KMeans:\n",
        "    def __init__(self, num_clusters, points, iterations):\n",
        "        self.num_clusters = num_clusters\n",
        "        self.points = points\n",
        "        self.iterations = iterations\n",
        "\n",
        "        self.centroids = self.initialize_centroids()\n",
        "        self.closest = None\n",
        "        self.mean_iou = None\n",
        "\n",
        "        self.find_clusters()\n",
        "        self.iou()\n",
        "\n",
        "    def initialize_centroids(self):\n",
        "        centroids = self.points.copy()\n",
        "        np.random.shuffle(centroids)\n",
        "        return centroids[:self.num_clusters]\n",
        "\n",
        "    def closest_centroid(self):\n",
        "        distances = np.sqrt(\n",
        "            ((self.points - self.centroids[:, np.newaxis]) ** 2).sum(axis=2)\n",
        "        )\n",
        "        self.closest = np.argmin(distances, axis=0)\n",
        "\n",
        "    def move_centroids(self):\n",
        "        self.centroids =  np.array([\n",
        "            self.points[self.closest == k].mean(axis=0)\n",
        "            for k in range(self.centroids.shape[0])\n",
        "        ])\n",
        "    \n",
        "    def find_clusters(self):\n",
        "        for _ in range(self.iterations):\n",
        "            self.closest_centroid()\n",
        "            self.move_centroids()\n",
        "    \n",
        "    def iou(self):\n",
        "        closest_centroids = self.centroids[self.closest]\n",
        "        width = np.minimum(\n",
        "            closest_centroids[:, 0], self.points[:, 0]\n",
        "        )\n",
        "        height = np.minimum(\n",
        "            closest_centroids[:, 1], self.points[:, 1]\n",
        "        )\n",
        "\n",
        "        intersection = width * height\n",
        "        points_area = self.points[:, 0] * self.points[:, 1]\n",
        "        cluster_area = closest_centroids[:, 0] * closest_centroids[:, 1]\n",
        "\n",
        "        self.mean_iou = np.mean(\n",
        "            intersection / (points_area + cluster_area - intersection)\n",
        "        )"
      ],
      "execution_count": 0,
      "outputs": []
    },
    {
      "cell_type": "code",
      "metadata": {
        "id": "Uzo22Fh5aNl0",
        "colab_type": "code",
        "colab": {}
      },
      "source": [
        "iou_list = []\n",
        "kmeans_model = {}\n",
        "\n",
        "# Cluster Trial Range\n",
        "num_clusters_start = 1\n",
        "num_clusters_end = 16\n",
        "\n",
        "# Count of iterations\n",
        "iterations = 300\n",
        "\n",
        "# Run K-Means for each 'n' number of clusters\n",
        "for k in range(num_clusters_start, num_clusters_end + 1):\n",
        "    kmeans_model[k + 1] = KMeans(k + 1, data_points, iterations)\n",
        "    iou_list.append(kmeans_model[k + 1].mean_iou)"
      ],
      "execution_count": 0,
      "outputs": []
    },
    {
      "cell_type": "code",
      "metadata": {
        "id": "bwbp5q8kacoG",
        "colab_type": "code",
        "colab": {
          "base_uri": "https://localhost:8080/",
          "height": 350
        },
        "outputId": "67a48f3a-4b1f-4a19-95bb-8a46263d9569"
      },
      "source": [
        "fig = plt.figure(figsize=(9, 5))\n",
        "\n",
        "_ = plt.plot(iou_list, '-s', markeredgecolor='green', markeredgewidth=3)\n",
        "\n",
        "plt.xlabel('Number of Clusters (k)')\n",
        "plt.ylabel('Mean IoU')\n",
        "\n",
        "plt.xticks(np.arange(len(iou_list)), np.arange(1, len(iou_list)+1))\n",
        "plt.title('Number of Clusters vs Mean IoU')\n",
        "\n",
        "fig.savefig('cluster_vs_mean_iou_graph.png')"
      ],
      "execution_count": 11,
      "outputs": [
        {
          "output_type": "display_data",
          "data": {
            "image/png": "[encoded data removed]",
            "text/plain": [
              "<Figure size 648x360 with 1 Axes>"
            ]
          },
          "metadata": {
            "tags": [],
            "needs_background": "light"
          }
        }
      ]
    },
    {
      "cell_type": "code",
      "metadata": {
        "id": "an5dFS_2asdd",
        "colab_type": "code",
        "colab": {}
      },
      "source": [
        "def display_clusters(kmeans):\n",
        "    num_clusters = kmeans.num_clusters\n",
        "\n",
        "    # Plot points for each cluster\n",
        "    for cluster_id in range(num_clusters):\n",
        "        points = kmeans.points[kmeans.closest == cluster_id]\n",
        "        plt.scatter(points[:, 0], points[:, 1])\n",
        "    \n",
        "    # Plot centroids\n",
        "    plt.scatter(kmeans.centroids[:, 0], kmeans.centroids[:, 1], c='black', s=90, marker='x')\n",
        "    plt.xlabel('width')\n",
        "    plt.ylabel('height')\n",
        "    plt.title(f'Cluster Plot for k = {num_clusters}')\n",
        "\n",
        "    # Save figure\n",
        "    plt.savefig(f'cluster_plot_k{num_clusters}.png')"
      ],
      "execution_count": 0,
      "outputs": []
    },
    {
      "cell_type": "code",
      "metadata": {
        "id": "_LC5JwgCawq7",
        "colab_type": "code",
        "colab": {
          "base_uri": "https://localhost:8080/",
          "height": 295
        },
        "outputId": "16da86d2-10d4-47a5-dfdd-6868267bd239"
      },
      "source": [
        "# Plot for k = 3\n",
        "display_clusters(kmeans_model[3])"
      ],
      "execution_count": 13,
      "outputs": [
        {
          "output_type": "display_data",
          "data": {
            "image/png": "[encoded data removed]",
            "text/plain": [
              "<Figure size 432x288 with 1 Axes>"
            ]
          },
          "metadata": {
            "tags": [],
            "needs_background": "light"
          }
        }
      ]
    },
    {
      "cell_type": "code",
      "metadata": {
        "id": "yKcdg-pwaywD",
        "colab_type": "code",
        "colab": {
          "base_uri": "https://localhost:8080/",
          "height": 295
        },
        "outputId": "0944be1d-d257-48dc-aff5-ec6eade47dda"
      },
      "source": [
        "# Plot for k = 4\n",
        "display_clusters(kmeans_model[4])"
      ],
      "execution_count": 14,
      "outputs": [
        {
          "output_type": "display_data",
          "data": {
            "image/png": "[encoded data removed]",
            "text/plain": [
              "<Figure size 432x288 with 1 Axes>"
            ]
          },
          "metadata": {
            "tags": [],
            "needs_background": "light"
          }
        }
      ]
    },
    {
      "cell_type": "code",
      "metadata": {
        "id": "WZnfkGsja2nn",
        "colab_type": "code",
        "colab": {}
      },
      "source": [
        "def make_anchor_boxes(ax, clusters, edgecolor='b', alpha=1):\n",
        "    \"\"\"Make anchor boxes given cluster centroids.\"\"\"\n",
        "\n",
        "    xdata = np.array([0.5]*len(clusters))\n",
        "    ydata = np.array([0.5]*len(clusters))\n",
        "\n",
        "    xerror = np.array([list(np.exp(clusters[:, 0])/2)]*2)\n",
        "    yerror = np.array([list(np.exp(clusters[:, 1])/2)]*2)\n",
        "\n",
        "    # Create list for all the error patches\n",
        "    errorboxes = []\n",
        "\n",
        "    # Loop over data points; create box from errors at each point\n",
        "    for x, y, xe, ye in zip(xdata, ydata, xerror.T, yerror.T):\n",
        "        rect = Rectangle((x - xe[0], y - ye[0]), xe.sum(), ye.sum())\n",
        "        errorboxes.append(rect)\n",
        "\n",
        "    # Create patch collection with specified colour/alpha\n",
        "    pc = PatchCollection(\n",
        "        errorboxes, facecolor='None', alpha=alpha, edgecolor=edgecolor\n",
        "    )\n",
        "\n",
        "    # Add collection to axes\n",
        "    ax.add_collection(pc)\n",
        "\n",
        "    # Plot errorbars\n",
        "    artists = ax.errorbar(\n",
        "        xdata, ydata, xerr=xerror, yerr=yerror, fmt='None', ecolor='None'\n",
        "    )\n",
        "\n",
        "    return artists"
      ],
      "execution_count": 0,
      "outputs": []
    },
    {
      "cell_type": "code",
      "metadata": {
        "id": "Vok_Wp4Za--C",
        "colab_type": "code",
        "colab": {
          "base_uri": "https://localhost:8080/",
          "height": 281
        },
        "outputId": "c775da6a-e0a2-4722-c4a3-c48b222f9865"
      },
      "source": [
        "# Create figure and axes\n",
        "fig, ax = plt.subplots(1)\n",
        "\n",
        "# Create error boxes\n",
        "_ = make_anchor_boxes(ax, kmeans_model[3].centroids)\n",
        "\n",
        "# Show plot\n",
        "plt.title('Anchor boxes for k = 3')\n",
        "plt.show()\n",
        "fig.savefig('anchor_bbox_k3.png')"
      ],
      "execution_count": 16,
      "outputs": [
        {
          "output_type": "display_data",
          "data": {
            "image/png": "[encoded data removed]",
            "text/plain": [
              "<Figure size 432x288 with 1 Axes>"
            ]
          },
          "metadata": {
            "tags": [],
            "needs_background": "light"
          }
        }
      ]
    },
    {
      "cell_type": "code",
      "metadata": {
        "id": "WycmWr-UbDjo",
        "colab_type": "code",
        "colab": {
          "base_uri": "https://localhost:8080/",
          "height": 281
        },
        "outputId": "0c713864-b446-486a-ee6b-9cdd322771b2"
      },
      "source": [
        "# Create figure and axes\n",
        "fig, ax = plt.subplots(1)\n",
        "\n",
        "# Create error boxes\n",
        "_ = make_anchor_boxes(ax, kmeans_model[4].centroids)\n",
        "\n",
        "# Show plot\n",
        "plt.title('Anchor boxes for k = 4')\n",
        "plt.show()\n",
        "fig.savefig('anchor_bbox_k4.png')\n"
      ],
      "execution_count": 17,
      "outputs": [
        {
          "output_type": "display_data",
          "data": {
            "image/png": "[encoded data removed]",
            "text/plain": [
              "<Figure size 432x288 with 1 Axes>"
            ]
          },
          "metadata": {
            "tags": [],
            "needs_background": "light"
          }
        }
      ]
    }
  ]
}