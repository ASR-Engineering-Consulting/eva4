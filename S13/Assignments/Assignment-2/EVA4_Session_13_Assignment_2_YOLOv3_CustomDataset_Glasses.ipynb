{
  "nbformat": 4,
  "nbformat_minor": 0,
  "metadata": {
    "colab": {
      "name": "EVA4_Session_13_Assignment-2_YOLOv3_CustomDataset_Glasses.ipynb",
      "provenance": [],
      "collapsed_sections": [],
      "authorship_tag": "ABX9TyO+npuHdhBkhme8SYmNaPyI",
      "include_colab_link": true
    },
    "kernelspec": {
      "name": "python3",
      "display_name": "Python 3"
    },
    "accelerator": "GPU"
  },
  "cells": [
    {
      "cell_type": "markdown",
      "metadata": {
        "id": "view-in-github",
        "colab_type": "text"
      },
      "source": [
        "<a href=\"https://colab.research.google.com/github/upadhyayprakash/eva4/blob/master/S13/Assignments/Assignment-2/EVA4_Session_13_Assignment_2_YOLOv3_CustomDataset_Glasses.ipynb\" target=\"_parent\"><img src=\"https://colab.research.google.com/assets/colab-badge.svg\" alt=\"Open In Colab\"/></a>"
      ]
    },
    {
      "cell_type": "code",
      "metadata": {
        "id": "u_2LvfF-bT80",
        "colab_type": "code",
        "colab": {}
      },
      "source": [
        "# enabels inline image viewing\n",
        "%matplotlib inline"
      ],
      "execution_count": 0,
      "outputs": []
    },
    {
      "cell_type": "code",
      "metadata": {
        "id": "1ROqKtUvbgmV",
        "colab_type": "code",
        "colab": {
          "base_uri": "https://localhost:8080/",
          "height": 122
        },
        "outputId": "092ee11e-dcf9-45d9-f113-74a48becff1b"
      },
      "source": [
        "from google.colab import drive\n",
        "drive.mount('/content/drive', force_remount=True) # Uncomment this when running using Colab Runtime"
      ],
      "execution_count": 2,
      "outputs": [
        {
          "output_type": "stream",
          "text": [
            "Go to this URL in a browser: https://accounts.google.com/o/oauth2/auth?client_id=947318989803-6bn6qk8qdgf4n4g3pfee6491hc0brc4i.apps.googleusercontent.com&redirect_uri=urn%3aietf%3awg%3aoauth%3a2.0%3aoob&response_type=code&scope=email%20https%3a%2f%2fwww.googleapis.com%2fauth%2fdocs.test%20https%3a%2f%2fwww.googleapis.com%2fauth%2fdrive%20https%3a%2f%2fwww.googleapis.com%2fauth%2fdrive.photos.readonly%20https%3a%2f%2fwww.googleapis.com%2fauth%2fpeopleapi.readonly\n",
            "\n",
            "Enter your authorization code:\n",
            "··········\n",
            "Mounted at /content/drive\n"
          ],
          "name": "stdout"
        }
      ]
    },
    {
      "cell_type": "code",
      "metadata": {
        "id": "b-kRqxMXc2-3",
        "colab_type": "code",
        "colab": {}
      },
      "source": [
        "# Run it ONCE ONLY\n",
        "# !git clone https://github.com/theschoolofai/YoloV3.git"
      ],
      "execution_count": 0,
      "outputs": []
    },
    {
      "cell_type": "code",
      "metadata": {
        "id": "ygSDCGeubwS1",
        "colab_type": "code",
        "colab": {
          "base_uri": "https://localhost:8080/",
          "height": 34
        },
        "outputId": "13188ca3-a318-4282-ec0f-1cde54dad4d5"
      },
      "source": [
        "cd 'drive/My Drive/EVA4/Session-13/Assignments/Assignment-2/YoloV3'"
      ],
      "execution_count": 3,
      "outputs": [
        {
          "output_type": "stream",
          "text": [
            "/content/drive/My Drive/EVA4/Session-13/Assignments/Assignment-2/YoloV3\n"
          ],
          "name": "stdout"
        }
      ]
    },
    {
      "cell_type": "code",
      "metadata": {
        "id": "vEr939n-eDMx",
        "colab_type": "code",
        "colab": {
          "base_uri": "https://localhost:8080/",
          "height": 119
        },
        "outputId": "41d786de-a29c-4631-912c-b01828ebffa6"
      },
      "source": [
        "ls"
      ],
      "execution_count": 6,
      "outputs": [
        {
          "output_type": "stream",
          "text": [
            " \u001b[0m\u001b[01;34mannotation_tool\u001b[0m/   \u001b[01;34moutput\u001b[0m/        \u001b[01;34mruns\u001b[0m/             'ubdivisions=1'\n",
            " \u001b[01;34mcfg\u001b[0m/               \u001b[01;34m__pycache__\u001b[0m/   test_batch0.png    \u001b[01;34mutils\u001b[0m/\n",
            " \u001b[01;34mdata\u001b[0m/              README.md      test.py            vim.exe.stackdump\n",
            " \u001b[01;34mdata_custom\u001b[0m/       results.json   ting               \u001b[01;34mweights\u001b[0m/\n",
            " detect.py          results.png    train_batch0.png\n",
            " models.py          results.txt    train.py\n"
          ],
          "name": "stdout"
        }
      ]
    },
    {
      "cell_type": "code",
      "metadata": {
        "id": "H2XpOoVhfNqK",
        "colab_type": "code",
        "colab": {
          "base_uri": "https://localhost:8080/",
          "height": 564
        },
        "outputId": "44816572-73de-4e99-ca7c-395b54e36f7d"
      },
      "source": [
        "!python train.py --data data/smalcoco/smalcoco.data --batch 3 --cache --epochs 3 --nosave"
      ],
      "execution_count": 5,
      "outputs": [
        {
          "output_type": "stream",
          "text": [
            "Namespace(accumulate=4, adam=False, batch_size=3, bucket='', cache_images=True, cfg='cfg/yolov3-spp.cfg', data='data/smalcoco/smalcoco.data', device='', epochs=3, evolve=False, img_size=[512], multi_scale=False, name='', nosave=True, notest=False, rect=False, resume=False, single_cls=False, weights='weights/yolov3-spp-ultralytics.pt')\n",
            "Using CUDA device0 _CudaDeviceProperties(name='Tesla P100-PCIE-16GB', total_memory=16280MB)\n",
            "\n",
            "2020-04-26 08:19:39.545817: I tensorflow/stream_executor/platform/default/dso_loader.cc:44] Successfully opened dynamic library libcudart.so.10.1\n",
            "Run 'tensorboard --logdir=runs' to view tensorboard at http://localhost:6006/\n",
            "Model Summary: 225 layers, 6.29987e+07 parameters, 6.29987e+07 gradients\n",
            "Caching labels (20 found, 0 missing, 0 empty, 0 duplicate, for 20 images): 100% 20/20 [00:07<00:00,  2.84it/s]\n",
            "Caching images (0.0GB): 100% 20/20 [00:06<00:00,  3.27it/s]\n",
            "Caching labels (20 found, 0 missing, 0 empty, 0 duplicate, for 20 images): 100% 20/20 [00:00<00:00, 737.09it/s]\n",
            "Caching images (0.0GB): 100% 20/20 [00:00<00:00, 73.48it/s]\n",
            "Image sizes 512 - 512 train, 512 test\n",
            "Using 2 dataloader workers\n",
            "Starting training for 3 epochs...\n",
            "\n",
            "     Epoch   gpu_mem      GIoU       obj       cls     total   targets  img_size\n",
            "       0/2     3.07G      1.89      2.14     0.445      4.48        21       512: 100% 7/7 [00:06<00:00,  1.13it/s]\n",
            "               Class    Images   Targets         P         R   mAP@0.5        F1: 100% 7/7 [00:02<00:00,  2.86it/s]\n",
            "                 all        20       128     0.582     0.954     0.934     0.709\n",
            "\n",
            "     Epoch   gpu_mem      GIoU       obj       cls     total   targets  img_size\n",
            "       1/2     3.07G      1.69      1.57     0.613      3.88        18       512: 100% 7/7 [00:02<00:00,  2.92it/s]\n",
            "               Class    Images   Targets         P         R   mAP@0.5        F1: 100% 7/7 [00:00<00:00,  8.96it/s]\n",
            "                 all        20       128     0.577     0.968     0.945     0.709\n",
            "\n",
            "     Epoch   gpu_mem      GIoU       obj       cls     total   targets  img_size\n",
            "       2/2     3.07G      1.47      1.39     0.498      3.36         9       512: 100% 7/7 [00:02<00:00,  2.92it/s]\n",
            "               Class    Images   Targets         P         R   mAP@0.5        F1: 100% 7/7 [00:00<00:00,  8.54it/s]\n",
            "                 all        20       128     0.571     0.968     0.945     0.704\n",
            "Speed: 17.8/2.6/20.5 ms inference/NMS/total per 512x512 image at batch-size 3\n",
            "3 epochs completed in 0.005 hours.\n",
            "\n"
          ],
          "name": "stdout"
        }
      ]
    },
    {
      "cell_type": "code",
      "metadata": {
        "id": "-DUdd3KLfaQg",
        "colab_type": "code",
        "colab": {}
      },
      "source": [
        ""
      ],
      "execution_count": 0,
      "outputs": []
    }
  ]
}